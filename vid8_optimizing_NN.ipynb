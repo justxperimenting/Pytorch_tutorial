{
 "cells": [
  {
   "cell_type": "markdown",
   "id": "70b40f11",
   "metadata": {},
   "source": [
    "## Methods of Optimization\n",
    "1. Adding more data\n",
    "2. Reducing the complexity of NN architecture\n",
    "3. Regularization\n",
    "4. Dropouts\n",
    "5. Data Augmentation\n",
    "6. Batch normalization\n",
    "7. Early Stopping"
   ]
  },
  {
   "cell_type": "code",
   "execution_count": 2,
   "id": "6d680421",
   "metadata": {},
   "outputs": [],
   "source": [
    "import torch\n",
    "import torch.nn as nn\n",
    "from torch.utils.data import Dataset, DataLoader"
   ]
  },
  {
   "cell_type": "code",
   "execution_count": null,
   "id": "4f569ba0",
   "metadata": {},
   "outputs": [],
   "source": [
    "# Taking the code from vid_5\n",
    "\n",
    "# Dropout is applied after layer's activation function \n",
    "\n",
    "class MyNN(nn.Module):\n",
    "    def __init__(self, num_features):\n",
    "        super().__init__()\n",
    "        self.model = nn.Sequential(\n",
    "           nn.Linear(num_features,128),\n",
    "           nn.ReLU(),\n",
    "           nn.Dropout(p = 0.3) # applying dropout to 1st hidden layer \n",
    "           nn.Linear(128,64),\n",
    "           nn.ReLU(),\n",
    "           nn.Dropout(p = 0.3) # applying dropout 2nd hidden layer\n",
    "           nn.Linear(64,10) \n",
    "           \n",
    "        )\n",
    "        \n",
    "    def forward(self,x):\n",
    "        return self.model(x)"
   ]
  },
  {
   "cell_type": "code",
   "execution_count": null,
   "id": "134b1056",
   "metadata": {},
   "outputs": [],
   "source": [
    "# same code from vid 5\n",
    "\n",
    "# Batch Normalization is applied before the layer's activation function\n",
    "\n",
    "class MyNN(nn.Module):\n",
    "    def __init__(self,num_features):\n",
    "        super().__init__()\n",
    "        self.model = nn.Sequential(\n",
    "            nn.Linear(num_features,128),\n",
    "            nn.BatchNorm1d(128),\n",
    "            nn.ReLU(),\n",
    "            nn.Linear(128,64),\n",
    "            nn.BatchNorm1d(64)\n",
    "            nn.ReLU(),\n",
    "            nn.Linear(64,10)\n",
    "        )\n",
    "        \n",
    "    def forward(self,x):\n",
    "        return self.model(x)"
   ]
  },
  {
   "cell_type": "code",
   "execution_count": null,
   "id": "432814b0",
   "metadata": {},
   "outputs": [],
   "source": [
    "# same code from vid_5\n",
    "\n",
    "# applying regularization\n",
    "# it can be added in the optimizer step where regularization is done in the weight update step\n",
    "\n",
    "X_train = [[1,3,2],[1,4,2]] # demo data\n",
    "learning_rate = 0.1\n",
    "\n",
    "model = MyNN(X_train.shape[1])\n",
    "\n",
    "# loss function\n",
    "criterion = nn.CrossEntropyLoss()\n",
    "\n",
    "# optimizer\n",
    "import torch.optim as optim\n",
    "optimizer = optim.SGD(model.parameters(), lr = learning_rate, weight_decay = 1e-4) # adding regularization\n",
    "\n"
   ]
  }
 ],
 "metadata": {
  "kernelspec": {
   "display_name": "base",
   "language": "python",
   "name": "python3"
  },
  "language_info": {
   "codemirror_mode": {
    "name": "ipython",
    "version": 3
   },
   "file_extension": ".py",
   "mimetype": "text/x-python",
   "name": "python",
   "nbconvert_exporter": "python",
   "pygments_lexer": "ipython3",
   "version": "3.12.4"
  }
 },
 "nbformat": 4,
 "nbformat_minor": 5
}
