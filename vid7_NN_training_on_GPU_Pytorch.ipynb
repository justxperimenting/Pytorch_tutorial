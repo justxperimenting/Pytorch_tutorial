{
  "nbformat": 4,
  "nbformat_minor": 0,
  "metadata": {
    "colab": {
      "provenance": [],
      "gpuType": "T4",
      "authorship_tag": "ABX9TyOdNVBSn4H2DuBuvOVN39SB",
      "include_colab_link": true
    },
    "kernelspec": {
      "name": "python3",
      "display_name": "Python 3"
    },
    "language_info": {
      "name": "python"
    },
    "accelerator": "GPU"
  },
  "cells": [
    {
      "cell_type": "markdown",
      "metadata": {
        "id": "view-in-github",
        "colab_type": "text"
      },
      "source": [
        "<a href=\"https://colab.research.google.com/github/justxperimenting/Pytorch_tutorial/blob/main/vid7_NN_training_on_GPU_Pytorch.ipynb\" target=\"_parent\"><img src=\"https://colab.research.google.com/assets/colab-badge.svg\" alt=\"Open In Colab\"/></a>"
      ]
    },
    {
      "cell_type": "code",
      "execution_count": 1,
      "metadata": {
        "id": "cVVjtfyWB8Nw"
      },
      "outputs": [],
      "source": [
        "import numpy as np\n",
        "import pandas as pd\n",
        "import matplotlib.pyplot as plt\n",
        "import seaborn as sns\n",
        "from sklearn.model_selection import train_test_split\n",
        "import torch\n",
        "import torch.nn as nn\n",
        "from torch.utils.data import Dataset, DataLoader"
      ]
    },
    {
      "cell_type": "code",
      "source": [
        "# set random seed for reproductibility\n",
        "torch.manual_seed(42)"
      ],
      "metadata": {
        "colab": {
          "base_uri": "https://localhost:8080/"
        },
        "id": "8h6FHHqqE1IV",
        "outputId": "1cbd269d-d79a-410f-81e3-75362fc9f32b"
      },
      "execution_count": 2,
      "outputs": [
        {
          "output_type": "execute_result",
          "data": {
            "text/plain": [
              "<torch._C.Generator at 0x7a88a8647eb0>"
            ]
          },
          "metadata": {},
          "execution_count": 2
        }
      ]
    },
    {
      "cell_type": "code",
      "source": [
        "# Steps\n",
        "\"\"\"\n",
        "1. Check GPU Availability\n",
        "\n",
        "2. Move the model to GPU\n",
        "\n",
        "3. Modify the Training loop by Moving Data to GPU\n",
        "\n",
        "4.\n",
        "\n",
        "\"\"\""
      ],
      "metadata": {
        "id": "iOdT2FLIHFp9"
      },
      "execution_count": null,
      "outputs": []
    },
    {
      "cell_type": "code",
      "source": [
        "# check for device\n",
        "device = torch.device('cuda' if torch.cuda.is_available() else 'cpu')\n",
        "print(f'Device : {device}')"
      ],
      "metadata": {
        "colab": {
          "base_uri": "https://localhost:8080/"
        },
        "id": "pEWinE5OI72E",
        "outputId": "5af4baeb-ca6b-4105-b3f1-aa6534be84b4"
      },
      "execution_count": 4,
      "outputs": [
        {
          "output_type": "stream",
          "name": "stdout",
          "text": [
            "Device : cuda\n"
          ]
        }
      ]
    },
    {
      "cell_type": "code",
      "source": [
        "df = pd.read_csv('/content/fashion-mnist_train.csv')"
      ],
      "metadata": {
        "id": "QNTNzkUNE9cg"
      },
      "execution_count": 9,
      "outputs": []
    },
    {
      "cell_type": "code",
      "source": [
        "df.shape"
      ],
      "metadata": {
        "colab": {
          "base_uri": "https://localhost:8080/"
        },
        "id": "my3L2I-WHEJK",
        "outputId": "85f168b1-0327-4952-adcf-a54d738685c2"
      },
      "execution_count": 10,
      "outputs": [
        {
          "output_type": "execute_result",
          "data": {
            "text/plain": [
              "(60000, 785)"
            ]
          },
          "metadata": {},
          "execution_count": 10
        }
      ]
    },
    {
      "cell_type": "code",
      "source": [
        "X = df.iloc[:,1:].values\n",
        "y = df.iloc[:,0].values"
      ],
      "metadata": {
        "id": "lB3XgLJBK0r1"
      },
      "execution_count": 15,
      "outputs": []
    },
    {
      "cell_type": "code",
      "source": [
        "X.shape"
      ],
      "metadata": {
        "colab": {
          "base_uri": "https://localhost:8080/"
        },
        "id": "A9HL13zMLGJj",
        "outputId": "18e9bd91-e510-4f02-9694-664aee49a2c3"
      },
      "execution_count": 16,
      "outputs": [
        {
          "output_type": "execute_result",
          "data": {
            "text/plain": [
              "(60000, 784)"
            ]
          },
          "metadata": {},
          "execution_count": 16
        }
      ]
    },
    {
      "cell_type": "code",
      "source": [
        "X_train,X_test,y_train,y_test = train_test_split(X,y, test_size = 0.2, random_state = 42)"
      ],
      "metadata": {
        "id": "ememDECJJRfS"
      },
      "execution_count": 17,
      "outputs": []
    },
    {
      "cell_type": "code",
      "source": [
        "X_train.shape"
      ],
      "metadata": {
        "colab": {
          "base_uri": "https://localhost:8080/"
        },
        "id": "3OqiS-_vKS5g",
        "outputId": "192b53f7-1765-445d-8595-9e2aef58cfea"
      },
      "execution_count": 18,
      "outputs": [
        {
          "output_type": "execute_result",
          "data": {
            "text/plain": [
              "(48000, 784)"
            ]
          },
          "metadata": {},
          "execution_count": 18
        }
      ]
    },
    {
      "cell_type": "code",
      "source": [
        "X_train = X_train/255.0\n",
        "X_test = X_test/255.0"
      ],
      "metadata": {
        "id": "LQV3FeYCKaXu"
      },
      "execution_count": 19,
      "outputs": []
    },
    {
      "cell_type": "code",
      "source": [
        "class CustomDataset(Dataset):\n",
        "  def __init__(self,features, labels):\n",
        "   self.features = torch.tensor(features, dtype = torch.float32)\n",
        "   self.labels = torch.tensor(labels, dtype = torch.long)\n",
        "\n",
        "  def __len__(self):\n",
        "    return self.features.shape[0]\n",
        "\n",
        "  def __getitem__(self,index):\n",
        "    return self.features[index], self.labels[index]\n",
        "\n"
      ],
      "metadata": {
        "id": "Hwy0fHVrL2K2"
      },
      "execution_count": 33,
      "outputs": []
    },
    {
      "cell_type": "code",
      "source": [
        "X_train.shape"
      ],
      "metadata": {
        "colab": {
          "base_uri": "https://localhost:8080/"
        },
        "id": "MRfCr0qkOXUa",
        "outputId": "053f18a7-80a5-49c8-965d-58a16084b686"
      },
      "execution_count": 34,
      "outputs": [
        {
          "output_type": "execute_result",
          "data": {
            "text/plain": [
              "(48000, 784)"
            ]
          },
          "metadata": {},
          "execution_count": 34
        }
      ]
    },
    {
      "cell_type": "code",
      "source": [
        "train_dataset = CustomDataset(X_train,y_train)\n",
        "test_dataset = CustomDataset(X_test,y_test)"
      ],
      "metadata": {
        "id": "R-pUvKgdM_JA"
      },
      "execution_count": 35,
      "outputs": []
    },
    {
      "cell_type": "code",
      "source": [
        "train_loader = DataLoader(train_dataset, batch_size = 32, shuffle = True)\n",
        "test_loader = DataLoader(test_dataset, batch_size = 32, shuffle = True)"
      ],
      "metadata": {
        "id": "ybBme-JvM9IO"
      },
      "execution_count": 36,
      "outputs": []
    },
    {
      "cell_type": "code",
      "source": [
        "len(train_loader)"
      ],
      "metadata": {
        "colab": {
          "base_uri": "https://localhost:8080/"
        },
        "id": "0eVnD3IJNeVq",
        "outputId": "12dd3894-8b9d-4021-ee6b-7450fb54d11a"
      },
      "execution_count": 37,
      "outputs": [
        {
          "output_type": "execute_result",
          "data": {
            "text/plain": [
              "1500"
            ]
          },
          "metadata": {},
          "execution_count": 37
        }
      ]
    },
    {
      "cell_type": "code",
      "source": [
        "class MyNN(nn.Module):\n",
        "  def __init__(self,num_features):\n",
        "    super().__init__()\n",
        "    self.model = nn.Sequential(\n",
        "        nn.Linear(num_features,128),\n",
        "        nn.ReLU(),\n",
        "        nn.Linear(128,64),\n",
        "        nn.ReLU(),\n",
        "        nn.Linear(64,10)\n",
        "        # here softmax should be present but,\n",
        "        # in pytorch crossentropyloss , softmax is already applied at end\n",
        "    )\n",
        "\n",
        "  def forward(self,x):\n",
        "    return self.model(x)\n"
      ],
      "metadata": {
        "id": "1PyiUmhFOO4n"
      },
      "execution_count": 38,
      "outputs": []
    },
    {
      "cell_type": "code",
      "source": [
        "learning_rate = 0.1\n",
        "epochs = 100"
      ],
      "metadata": {
        "id": "Qg7B8x6bP2kO"
      },
      "execution_count": 39,
      "outputs": []
    },
    {
      "cell_type": "code",
      "source": [
        "# instatiate the model\n",
        "model = MyNN(X_train.shape[1])\n",
        "\n",
        "# move model to gpu\n",
        "model = model.to(device)\n",
        "\n",
        "# loss function\n",
        "criterion = nn.CrossEntropyLoss()\n",
        "\n",
        "# optimizer\n",
        "import torch.optim as optim\n",
        "optimizer = optim.SGD(model.parameters(), lr = learning_rate)"
      ],
      "metadata": {
        "id": "lVFMBLrSQguu"
      },
      "execution_count": 41,
      "outputs": []
    },
    {
      "cell_type": "code",
      "source": [
        "# training loop\n",
        "for epoch in range(epochs):\n",
        "\n",
        "  total_epoch_loss = 0\n",
        "\n",
        "  for batch_features, batch_labels in train_loader:\n",
        "    # moving data to gpu\n",
        "    batch_features = batch_features.to(device)\n",
        "    batch_labels = batch_labels.to(device)\n",
        "\n",
        "    # forward pass\n",
        "    outputs = model(batch_features)\n",
        "\n",
        "    # calculate loss\n",
        "    loss = criterion(outputs, batch_labels)\n",
        "\n",
        "    # backward pass\n",
        "    optimizer.zero_grad()\n",
        "    loss.backward()\n",
        "\n",
        "    # update the weights\n",
        "    optimizer.step()\n",
        "\n",
        "    total_epoch_loss = total_epoch_loss + loss.item()\n",
        "\n",
        "  avg_loss = total_epoch_loss/len(train_loader)\n",
        "  print(f'Epoch : {epoch+1}, Loss : {avg_loss}')\n"
      ],
      "metadata": {
        "colab": {
          "base_uri": "https://localhost:8080/"
        },
        "collapsed": true,
        "id": "DnZyJaCgRS93",
        "outputId": "d12fc4f2-535f-4681-ecec-7748ac0f38e6"
      },
      "execution_count": 42,
      "outputs": [
        {
          "output_type": "stream",
          "name": "stdout",
          "text": [
            "Epoch : 1, Loss : 0.6442541582981746\n",
            "Epoch : 2, Loss : 0.432057913094759\n",
            "Epoch : 3, Loss : 0.3867000223423044\n",
            "Epoch : 4, Loss : 0.3572725569754839\n",
            "Epoch : 5, Loss : 0.3385145670423905\n",
            "Epoch : 6, Loss : 0.3232740025669336\n",
            "Epoch : 7, Loss : 0.30780292422821126\n",
            "Epoch : 8, Loss : 0.29756631531069677\n",
            "Epoch : 9, Loss : 0.28432619310791296\n",
            "Epoch : 10, Loss : 0.274511347360909\n",
            "Epoch : 11, Loss : 0.26553403203065196\n",
            "Epoch : 12, Loss : 0.2601559265678128\n",
            "Epoch : 13, Loss : 0.2529807674959302\n",
            "Epoch : 14, Loss : 0.24344130228521924\n",
            "Epoch : 15, Loss : 0.23930770195275544\n",
            "Epoch : 16, Loss : 0.2330618276372552\n",
            "Epoch : 17, Loss : 0.22821492086847622\n",
            "Epoch : 18, Loss : 0.22220238779857754\n",
            "Epoch : 19, Loss : 0.217659245159477\n",
            "Epoch : 20, Loss : 0.21119479821901768\n",
            "Epoch : 21, Loss : 0.20388950807166598\n",
            "Epoch : 22, Loss : 0.2011286676240464\n",
            "Epoch : 23, Loss : 0.19966202997385213\n",
            "Epoch : 24, Loss : 0.19421586274666092\n",
            "Epoch : 25, Loss : 0.1880985551327467\n",
            "Epoch : 26, Loss : 0.18550730106048285\n",
            "Epoch : 27, Loss : 0.18129825512506068\n",
            "Epoch : 28, Loss : 0.17588157702609897\n",
            "Epoch : 29, Loss : 0.17168243551750978\n",
            "Epoch : 30, Loss : 0.16945519771178563\n",
            "Epoch : 31, Loss : 0.16431164993500957\n",
            "Epoch : 32, Loss : 0.16545680175938954\n",
            "Epoch : 33, Loss : 0.15747031411062926\n",
            "Epoch : 34, Loss : 0.15657952255321045\n",
            "Epoch : 35, Loss : 0.153233069772056\n",
            "Epoch : 36, Loss : 0.14799979667450922\n",
            "Epoch : 37, Loss : 0.1522048129889493\n",
            "Epoch : 38, Loss : 0.14530968626961113\n",
            "Epoch : 39, Loss : 0.14756595810533812\n",
            "Epoch : 40, Loss : 0.1425852533283954\n",
            "Epoch : 41, Loss : 0.1370372045498031\n",
            "Epoch : 42, Loss : 0.1340719903189068\n",
            "Epoch : 43, Loss : 0.13357608157085876\n",
            "Epoch : 44, Loss : 0.12768993247610827\n",
            "Epoch : 45, Loss : 0.12810274346731604\n",
            "Epoch : 46, Loss : 0.12405574415205047\n",
            "Epoch : 47, Loss : 0.12343339409896482\n",
            "Epoch : 48, Loss : 0.12652651653826857\n",
            "Epoch : 49, Loss : 0.11879296315989146\n",
            "Epoch : 50, Loss : 0.1168324664340665\n",
            "Epoch : 51, Loss : 0.11694674334938948\n",
            "Epoch : 52, Loss : 0.11557489744185781\n",
            "Epoch : 53, Loss : 0.11056583453963201\n",
            "Epoch : 54, Loss : 0.10896267784154043\n",
            "Epoch : 55, Loss : 0.10893635786371306\n",
            "Epoch : 56, Loss : 0.10357122187145676\n",
            "Epoch : 57, Loss : 0.10420468837721274\n",
            "Epoch : 58, Loss : 0.10394991833576933\n",
            "Epoch : 59, Loss : 0.1012138592111878\n",
            "Epoch : 60, Loss : 0.10193961744348053\n",
            "Epoch : 61, Loss : 0.10439918620837853\n",
            "Epoch : 62, Loss : 0.10162056684594911\n",
            "Epoch : 63, Loss : 0.09626581816216155\n",
            "Epoch : 64, Loss : 0.09543819926163026\n",
            "Epoch : 65, Loss : 0.09469996947632171\n",
            "Epoch : 66, Loss : 0.09498912045701097\n",
            "Epoch : 67, Loss : 0.08989152842131444\n",
            "Epoch : 68, Loss : 0.09231793224997818\n",
            "Epoch : 69, Loss : 0.08953525340149644\n",
            "Epoch : 70, Loss : 0.08511375023121946\n",
            "Epoch : 71, Loss : 0.08584093749360182\n",
            "Epoch : 72, Loss : 0.08807611274238054\n",
            "Epoch : 73, Loss : 0.0825872722842032\n",
            "Epoch : 74, Loss : 0.08360464890215856\n",
            "Epoch : 75, Loss : 0.08285381109487693\n",
            "Epoch : 76, Loss : 0.08606760611225037\n",
            "Epoch : 77, Loss : 0.08175539068462483\n",
            "Epoch : 78, Loss : 0.08082284137358269\n",
            "Epoch : 79, Loss : 0.07924101429837174\n",
            "Epoch : 80, Loss : 0.07359400645496013\n",
            "Epoch : 81, Loss : 0.07524892613823371\n",
            "Epoch : 82, Loss : 0.07915737840618628\n",
            "Epoch : 83, Loss : 0.07656683515400316\n",
            "Epoch : 84, Loss : 0.07762434659979772\n",
            "Epoch : 85, Loss : 0.07393865764475777\n",
            "Epoch : 86, Loss : 0.07094179316383088\n",
            "Epoch : 87, Loss : 0.06936596984437589\n",
            "Epoch : 88, Loss : 0.07340796381436909\n",
            "Epoch : 89, Loss : 0.06314702504862604\n",
            "Epoch : 90, Loss : 0.06865703408582097\n",
            "Epoch : 91, Loss : 0.06266510735408519\n",
            "Epoch : 92, Loss : 0.06405129740555034\n",
            "Epoch : 93, Loss : 0.07007525610521165\n",
            "Epoch : 94, Loss : 0.062809506865901\n",
            "Epoch : 95, Loss : 0.07274248794206263\n",
            "Epoch : 96, Loss : 0.062275479750998786\n",
            "Epoch : 97, Loss : 0.05907537756613844\n",
            "Epoch : 98, Loss : 0.05703805520551396\n",
            "Epoch : 99, Loss : 0.06385461304988713\n",
            "Epoch : 100, Loss : 0.06563683592847276\n"
          ]
        }
      ]
    },
    {
      "cell_type": "code",
      "source": [
        "# evaluate the model\n",
        "model.eval()"
      ],
      "metadata": {
        "colab": {
          "base_uri": "https://localhost:8080/"
        },
        "id": "MYNLfDF0TPp4",
        "outputId": "141bfada-5dea-404d-cc71-7d121942be3f"
      },
      "execution_count": 43,
      "outputs": [
        {
          "output_type": "execute_result",
          "data": {
            "text/plain": [
              "MyNN(\n",
              "  (model): Sequential(\n",
              "    (0): Linear(in_features=784, out_features=128, bias=True)\n",
              "    (1): ReLU()\n",
              "    (2): Linear(in_features=128, out_features=64, bias=True)\n",
              "    (3): ReLU()\n",
              "    (4): Linear(in_features=64, out_features=10, bias=True)\n",
              "  )\n",
              ")"
            ]
          },
          "metadata": {},
          "execution_count": 43
        }
      ]
    },
    {
      "cell_type": "code",
      "source": [
        "# evaluation code\n",
        "total = 0\n",
        "correct = 0\n",
        "\n",
        "with torch.no_grad():\n",
        "\n",
        "  for batch_features,batch_labels in test_loader:\n",
        "    # moving the data to gpu\n",
        "    batch_features,batch_labels = batch_features.to(device), batch_labels.to(device)\n",
        "\n",
        "    output = model(batch_features)\n",
        "\n",
        "    _,predicted = torch.max(output,1)\n",
        "\n",
        "    total = total + batch_labels.shape[0]\n",
        "\n",
        "    correct = correct + (predicted == batch_labels).sum().item()\n",
        "\n",
        "print(f'Accuracy : {correct/total}')\n",
        "\n"
      ],
      "metadata": {
        "colab": {
          "base_uri": "https://localhost:8080/"
        },
        "id": "F2AuAy0jTZhQ",
        "outputId": "d6c39221-a36b-4867-a64a-8e60c83d2309"
      },
      "execution_count": 46,
      "outputs": [
        {
          "output_type": "stream",
          "name": "stdout",
          "text": [
            "Accuracy : 0.8824166666666666\n"
          ]
        }
      ]
    },
    {
      "cell_type": "code",
      "source": [],
      "metadata": {
        "id": "cQzpeKluVPhO"
      },
      "execution_count": null,
      "outputs": []
    }
  ]
}